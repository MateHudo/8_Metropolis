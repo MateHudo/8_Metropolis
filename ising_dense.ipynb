{
 "cells": [
  {
   "cell_type": "code",
   "execution_count": 3,
   "metadata": {},
   "outputs": [
    {
     "name": "stdout",
     "output_type": "stream",
     "text": [
      "1733237717.004024\n"
     ]
    }
   ],
   "source": [
    "import numpy as np\n",
    "import matplotlib.pyplot as plt\n",
    "import sys\n",
    "sys.path.append('C:/Users/Admin/Desktop/Python_koda')\n",
    "from scipy.optimize import curve_fit\n",
    "import sympy as sym\n",
    "import scipy as sc\n",
    "#import pandas as pd\n",
    "import numpy.random as rndm\n",
    "import time\n",
    "#from time import time.time #as Time\n",
    "print(time.time())\n",
    "\n",
    "import scienceplots\n",
    "plt.style.use(['science','notebook','grid'])\n",
    "\n",
    "import numpy.random as rndm\n",
    "from numpy.random import random as RND\n",
    "from numpy.random import uniform as UNFM\n",
    "from numpy.random import randint "
   ]
  },
  {
   "cell_type": "code",
   "execution_count": 4,
   "metadata": {},
   "outputs": [],
   "source": [
    "   # popravek : Periodic Boundary Conditions!!\n",
    "def NeighboursSum(matrix, i, j):\n",
    "    # Get the dimensions of the matrix\n",
    "    rows, cols = matrix.shape\n",
    "    \n",
    "    # Initialize the sum\n",
    "    total_sum = 0\n",
    "    \n",
    "    # Check the neighbors of the element at position (i, j)\n",
    "    # Use modulo operator to handle periodic boundary conditions\n",
    "    total_sum += matrix[(i - 1) % rows, j]  # Left neighbor\n",
    "    total_sum += matrix[(i + 1) % rows, j]  # Right neighbor\n",
    "    total_sum += matrix[i, (j - 1) % cols]  # Upper neighbor\n",
    "    total_sum += matrix[i, (j + 1) % cols]  # Lower neighbor\n",
    "    \n",
    "    return total_sum"
   ]
  },
  {
   "cell_type": "code",
   "execution_count": 5,
   "metadata": {},
   "outputs": [],
   "source": [
    "def IsingPlot(F):\n",
    "    plt.imshow(F,cmap='binary')\n",
    "    plt.axis('off')"
   ]
  },
  {
   "cell_type": "code",
   "execution_count": 6,
   "metadata": {},
   "outputs": [
    {
     "name": "stdout",
     "output_type": "stream",
     "text": [
      "čas simulacije (N=2.0e+05) : 3.382 s\n"
     ]
    },
    {
     "data": {
      "image/png": "[encoded data removed]",
      "text/plain": [
       "<Figure size 800x600 with 1 Axes>"
      ]
     },
     "metadata": {},
     "output_type": "display_data"
    }
   ],
   "source": [
    "# https://predmeti.fmf.uni-lj.si/modelska/letnik21-22?action=AttachFile&do=get&target=MA1-19.nov.2020.pdf\n",
    "#https://en.wikipedia.org/wiki/Ising_model#Two_dimensions\n",
    "    \n",
    "def Ising(a=10,N_potez=10**4,T=1,J=1,H=0,SEED = None):\n",
    "    # temeperatura T: je normirana na Tc; T==T/Tc; enako jakost mag polja: H==H/J\n",
    "    rndm.seed(SEED)\n",
    "    Feromagnet_init = rndm.choice([-1,1],size=(a,a))  # začetno stanje\n",
    "    FeromagnetSimulation = np.copy(Feromagnet_init)  # ta gre v simulacijo\n",
    "    #print(Feromagnet)\n",
    "    for i in range(N_potez):\n",
    "        x,y = randint(0,a), randint(0,a)\n",
    "        S = FeromagnetSimulation[x][y]\n",
    "        #print(f'----NEW:{x,y}-->{S}----')\n",
    "        dE = J * S * (NeighboursSum(FeromagnetSimulation,x,y) + H)\n",
    "        #print(dE)\n",
    "        if UNFM() < np.exp(- dE / T):\n",
    "            #print(f'dE= {dE}- ok ----')\n",
    "            FeromagnetSimulation[x][y] = - S\n",
    "    return Feromagnet_init, FeromagnetSimulation\n",
    "\n",
    "\n",
    "\n",
    "T_ising = time.time()\n",
    "N_potez = 2*10**5\n",
    "Fi,Ff = Ising(100,N_potez,T=0.6,H=0.04,SEED=15367)\n",
    "print(f'čas simulacije (N={N_potez:.1e}) : {np.round(time.time()- T_ising,3)} s')\n",
    "\n",
    "IsingPlot(Ff)"
   ]
  }
 ],
 "metadata": {
  "kernelspec": {
   "display_name": "base",
   "language": "python",
   "name": "python3"
  },
  "language_info": {
   "codemirror_mode": {
    "name": "ipython",
    "version": 3
   },
   "file_extension": ".py",
   "mimetype": "text/x-python",
   "name": "python",
   "nbconvert_exporter": "python",
   "pygments_lexer": "ipython3",
   "version": "3.11.7"
  }
 },
 "nbformat": 4,
 "nbformat_minor": 2
}
